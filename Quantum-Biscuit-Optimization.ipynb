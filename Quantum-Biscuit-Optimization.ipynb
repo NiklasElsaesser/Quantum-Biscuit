{
 "cells": [
  {
   "cell_type": "markdown",
   "id": "6b9d29b4",
   "metadata": {
    "pycharm": {
     "name": "#%% md\n"
    }
   },
   "source": [
    "# Optimization\n",
    "To improve the probabilities of our Biscuit-Tester when deploying the code on a Quantum Computer, we have mulitple options. The options can be devided into two categories, soft- and hardware based improvements.\n",
    "\n",
    "## Software optimization\n",
    "Software enabled optimization is the\n",
    "\n",
    "The here used techniques are:\n",
    "- noise reduction\n",
    "- Measurement Error Mitigation\n",
    "\n",
    "## Hardware optimization"
   ]
  },
  {
   "cell_type": "markdown",
   "id": "42911c35",
   "metadata": {
    "pycharm": {
     "name": "#%% md\n"
    }
   },
   "source": [
    "## Setup\n",
    "First we have to setup the code\n"
   ]
  },
  {
   "cell_type": "code",
   "execution_count": 1,
   "id": "ca6028dd",
   "metadata": {
    "pycharm": {
     "name": "#%%\n"
    }
   },
   "outputs": [],
   "source": [
    "from qiskit import QuantumCircuit, QuantumRegister,ClassicalRegister, execute, transpile, Aer, IBMQ # circuit creation and execution\n",
    "from qiskit.providers.aer.noise import NoiseModel # simulate backends\n",
    "from qiskit.visualization import plot_histogram # visualize results\n",
    "from qiskit.quantum_info import Statevector, state_fidelity, hellinger_fidelity # statevector and metrics\n",
    "from qiskit.providers.ibmq import least_busy # get least busy device\n",
    "import qiskit.tools.jupyter # visualize backends\n",
    "from qiskit.circuit.library.standard_gates.rx import RXGate\n",
    "# from qiskit.ignis.mitigation.measurement import complete_meas_cal,CompleteMeasFitter # measurement error mitigation\n",
    "\n",
    "import pandas as pd # handy tools for calculation\n",
    "from numpy import pi\n",
    "import pandas as pd\n",
    "import matplotlib.pyplot as plt\n",
    "\n",
    "# global vars\n",
    "n = 3 # number of qubits\n",
    "shots = 1000 # high number of shots per execution"
   ]
  },
  {
   "cell_type": "markdown",
   "id": "eea07df1",
   "metadata": {
    "pycharm": {
     "name": "#%% md\n"
    }
   },
   "source": [
    "## Own Code\n",
    "This is the improved code for the simple biscuit test"
   ]
  },
  {
   "cell_type": "code",
   "execution_count": 2,
   "id": "8c40a00c",
   "metadata": {
    "pycharm": {
     "name": "#%%\n"
    }
   },
   "outputs": [
    {
     "data": {
      "image/png": "[encoded data removed]",
      "text/plain": [
       "<Figure size 327.252x204.68 with 1 Axes>"
      ]
     },
     "execution_count": 2,
     "metadata": {},
     "output_type": "execute_result"
    }
   ],
   "source": [
    "qreg_q = QuantumRegister(2, 'q')\n",
    "creg_c = ClassicalRegister(2, 'c')\n",
    "circuit = QuantumCircuit(qreg_q, creg_c)\n",
    "\n",
    "circuit.rx(pi/10, qreg_q[0])\n",
    "circuit.reset(qreg_q[1])\n",
    "circuit.cx(qreg_q[0], qreg_q[1])\n",
    "circuit.rx(-pi/2, qreg_q[0])\n",
    "circuit.measure(qreg_q[1], creg_c[1])\n",
    "circuit.measure(qreg_q[0], creg_c[0])\n",
    "circuit.draw(output='mpl')"
   ]
  },
  {
   "cell_type": "markdown",
   "id": "175ad58c",
   "metadata": {
    "pycharm": {
     "name": "#%% md\n"
    }
   },
   "source": [
    "The code gets converted into qasm code to deploy it onto a Quantum Computer."
   ]
  },
  {
   "cell_type": "code",
   "execution_count": 3,
   "id": "61147b28",
   "metadata": {
    "pycharm": {
     "name": "#%%\n"
    }
   },
   "outputs": [
    {
     "name": "stdout",
     "output_type": "stream",
     "text": [
      "OPENQASM 2.0;\n",
      "include \"qelib1.inc\";\n",
      "qreg q[2];\n",
      "creg c[2];\n",
      "rx(pi/10) q[0];\n",
      "reset q[1];\n",
      "cx q[0],q[1];\n",
      "rx(-pi/2) q[0];\n",
      "measure q[1] -> c[1];\n",
      "measure q[0] -> c[0];\n",
      "\n"
     ]
    }
   ],
   "source": [
    "print(circuit.qasm())"
   ]
  },
  {
   "cell_type": "markdown",
   "id": "ba5272a6",
   "metadata": {
    "pycharm": {
     "name": "#%% md\n"
    }
   },
   "source": [
    "Here We simulate the probability output of the unimproved circuit."
   ]
  },
  {
   "cell_type": "code",
   "execution_count": 4,
   "id": "da24184d",
   "metadata": {
    "pycharm": {
     "name": "#%%\n"
    }
   },
   "outputs": [
    {
     "data": {
      "image/png": "[encoded data removed]",
      "text/plain": [
       "<Figure size 504x360 with 1 Axes>"
      ]
     },
     "execution_count": 4,
     "metadata": {},
     "output_type": "execute_result"
    }
   ],
   "source": [
    "# Running the basic bomb tester circuit\n",
    "\n",
    "from qiskit.providers.aer import QasmSimulator\n",
    "simulator = QasmSimulator()\n",
    "\n",
    "job = simulator.run(circuit, shots=1000)\n",
    "result = job.result()\n",
    "counts = result.get_counts(circuit)\n",
    "\n",
    "from qiskit.visualization import plot_histogram\n",
    "plot_histogram(counts)"
   ]
  },
  {
   "cell_type": "markdown",
   "id": "c9d06cfd",
   "metadata": {
    "pycharm": {
     "name": "#%% md\n"
    }
   },
   "source": [
    "## Setup for Noise optimization\n",
    "## might improve , shorten code"
   ]
  },
  {
   "cell_type": "code",
   "execution_count": 5,
   "id": "895fdd49",
   "metadata": {
    "pycharm": {
     "name": "#%%\n"
    }
   },
   "outputs": [],
   "source": [
    "expected_states = ['00', '01', '10', '11']  # target states\n",
    "\n",
    "def get_state_accuracy(counts): # funciton to calculate state accuracy\n",
    "    expected_counts = 0\n",
    "    for state in counts.keys():\n",
    "        if state in expected_states:\n",
    "            expected_counts = expected_counts + counts[state]\n",
    "    state_accuracy = expected_counts / shots\n",
    "    return str(state_accuracy*100)+\"%\""
   ]
  },
  {
   "cell_type": "code",
   "execution_count": 6,
   "id": "5af3fb50",
   "metadata": {
    "pycharm": {
     "name": "#%%\n"
    }
   },
   "outputs": [
    {
     "name": "stdout",
     "output_type": "stream",
     "text": [
      "state accuracy on the simulator: 100.0%\n"
     ]
    }
   ],
   "source": [
    "counts = execute(circuit, backend=Aer.get_backend('qasm_simulator'), shots=shots).result().get_counts() # execution on simulator\n",
    "state_accuracy = get_state_accuracy(counts)\n",
    "print(f\"state accuracy on the simulator: {state_accuracy}\")"
   ]
  },
  {
   "cell_type": "markdown",
   "id": "8c9692f2",
   "metadata": {
    "pycharm": {
     "name": "#%% md\n"
    }
   },
   "source": [
    "Importing fake Backend"
   ]
  },
  {
   "cell_type": "code",
   "execution_count": 7,
   "id": "4045b4df",
   "metadata": {
    "pycharm": {
     "name": "#%%\n"
    }
   },
   "outputs": [],
   "source": [
    "from qiskit.test.mock import *\n",
    "\n",
    "backends = [FakeVigo()]\n",
    "backend1 = FakeVigo()"
   ]
  },
  {
   "cell_type": "markdown",
   "id": "992861a8",
   "metadata": {
    "pycharm": {
     "name": "#%% md\n"
    }
   },
   "source": [
    "importing backend Santiago"
   ]
  },
  {
   "cell_type": "markdown",
   "id": "129bb8f1",
   "metadata": {
    "pycharm": {
     "name": "#%% md\n"
    }
   },
   "source": [
    "## Noise reduction\n",
    "Noise increases the more Gates we add to the circuit. Optimization is done with the qiskit transpiler function to decrease the noise at the final gate. \n",
    "\n",
    "With this function, the original circuit gets translated into a new circuit with the gates used by the Quantum Computer on which the program is deployed. (fake backend)"
   ]
  },
  {
   "cell_type": "code",
   "execution_count": 8,
   "id": "b9506a68",
   "metadata": {
    "pycharm": {
     "name": "#%%\n"
    }
   },
   "outputs": [
    {
     "name": "stdout",
     "output_type": "stream",
     "text": [
      "optimization level: 0\n",
      "global phase: π\n",
      "               ┌─────────┐┌────┐┌────────────┐┌────┐┌──────────┐     »\n",
      "      q_0 -> 0 ┤ Rz(π/2) ├┤ √X ├┤ Rz(11π/10) ├┤ √X ├┤ Rz(5π/2) ├──■──»\n",
      "               └─────────┘└────┘└────────────┘└────┘└──────────┘┌─┴─┐»\n",
      "      q_1 -> 1 ────|0>──────────────────────────────────────────┤ X ├»\n",
      "                                                                └───┘»\n",
      "ancilla_0 -> 2 ──────────────────────────────────────────────────────»\n",
      "                                                                     »\n",
      "ancilla_1 -> 3 ──────────────────────────────────────────────────────»\n",
      "                                                                     »\n",
      "ancilla_2 -> 4 ──────────────────────────────────────────────────────»\n",
      "                                                                     »\n",
      "          c: 2/══════════════════════════════════════════════════════»\n",
      "                                                                     »\n",
      "«               ┌─────────┐┌────┐┌─────────┐┌────┐┌──────────┐┌─┐\n",
      "«      q_0 -> 0 ┤ Rz(π/2) ├┤ √X ├┤ Rz(π/2) ├┤ √X ├┤ Rz(5π/2) ├┤M├\n",
      "«               └───┬─┬───┘└────┘└─────────┘└────┘└──────────┘└╥┘\n",
      "«      q_1 -> 1 ────┤M├────────────────────────────────────────╫─\n",
      "«                   └╥┘                                        ║ \n",
      "«ancilla_0 -> 2 ─────╫─────────────────────────────────────────╫─\n",
      "«                    ║                                         ║ \n",
      "«ancilla_1 -> 3 ─────╫─────────────────────────────────────────╫─\n",
      "«                    ║                                         ║ \n",
      "«ancilla_2 -> 4 ─────╫─────────────────────────────────────────╫─\n",
      "«                    ║                                         ║ \n",
      "«          c: 2/═════╩═════════════════════════════════════════╩═\n",
      "«                    1                                         0 \n",
      "OPENQASM 2.0;\n",
      "include \"qelib1.inc\";\n",
      "qreg q[5];\n",
      "creg c[2];\n",
      "rz(pi/2) q[0];\n",
      "sx q[0];\n",
      "rz(11*pi/10) q[0];\n",
      "sx q[0];\n",
      "rz(5*pi/2) q[0];\n",
      "reset q[1];\n",
      "cx q[0],q[1];\n",
      "rz(pi/2) q[0];\n",
      "sx q[0];\n",
      "rz(pi/2) q[0];\n",
      "sx q[0];\n",
      "rz(5*pi/2) q[0];\n",
      "measure q[0] -> c[0];\n",
      "measure q[1] -> c[1];\n",
      "\n",
      "optimized circuit\n",
      "optimization level: 1\n",
      "global phase: π/4\n",
      "               ┌─────────┐┌────┐┌────────────┐┌────┐┌──────────┐     ┌────────┐»\n",
      "      q_0 -> 0 ┤ Rz(π/2) ├┤ √X ├┤ Rz(11π/10) ├┤ √X ├┤ Rz(5π/2) ├──■──┤ Rz(-π) ├»\n",
      "               └─────────┘└────┘└────────────┘└────┘└──────────┘┌─┴─┐└──┬─┬───┘»\n",
      "      q_1 -> 1 ─────────────────────────────────────────────────┤ X ├───┤M├────»\n",
      "                                                                └───┘   └╥┘    »\n",
      "ancilla_0 -> 2 ──────────────────────────────────────────────────────────╫─────»\n",
      "                                                                         ║     »\n",
      "ancilla_1 -> 3 ──────────────────────────────────────────────────────────╫─────»\n",
      "                                                                         ║     »\n",
      "ancilla_2 -> 4 ──────────────────────────────────────────────────────────╫─────»\n",
      "                                                                         ║     »\n",
      "          c: 2/══════════════════════════════════════════════════════════╩═════»\n",
      "                                                                         1     »\n",
      "«               ┌────┐┌────────┐┌─┐\n",
      "«      q_0 -> 0 ┤ √X ├┤ Rz(-π) ├┤M├\n",
      "«               └────┘└────────┘└╥┘\n",
      "«      q_1 -> 1 ─────────────────╫─\n",
      "«                                ║ \n",
      "«ancilla_0 -> 2 ─────────────────╫─\n",
      "«                                ║ \n",
      "«ancilla_1 -> 3 ─────────────────╫─\n",
      "«                                ║ \n",
      "«ancilla_2 -> 4 ─────────────────╫─\n",
      "«                                ║ \n",
      "«          c: 2/═════════════════╩═\n",
      "«                                0 \n",
      "OPENQASM 2.0;\n",
      "include \"qelib1.inc\";\n",
      "qreg q[5];\n",
      "creg c[2];\n",
      "rz(pi/2) q[0];\n",
      "sx q[0];\n",
      "rz(11*pi/10) q[0];\n",
      "sx q[0];\n",
      "rz(5*pi/2) q[0];\n",
      "cx q[0],q[1];\n",
      "rz(-pi) q[0];\n",
      "sx q[0];\n",
      "rz(-pi) q[0];\n",
      "measure q[0] -> c[0];\n",
      "measure q[1] -> c[1];\n",
      "\n",
      "optimized circuit\n",
      "optimization level: 2\n",
      "                                                                           »\n",
      "ancilla_0 -> 0 ────────────────────────────────────────────────────────────»\n",
      "               ┌─────────┐┌────┐┌────────────┐┌────┐┌──────────┐     ┌────┐»\n",
      "      q_0 -> 1 ┤ Rz(π/2) ├┤ √X ├┤ Rz(11π/10) ├┤ √X ├┤ Rz(3π/2) ├──■──┤ √X ├»\n",
      "               └─────────┘└────┘└────────────┘└────┘└──────────┘┌─┴─┐└┬─┬─┘»\n",
      "      q_1 -> 2 ─────────────────────────────────────────────────┤ X ├─┤M├──»\n",
      "                                                                └───┘ └╥┘  »\n",
      "ancilla_1 -> 3 ────────────────────────────────────────────────────────╫───»\n",
      "                                                                       ║   »\n",
      "ancilla_2 -> 4 ────────────────────────────────────────────────────────╫───»\n",
      "                                                                       ║   »\n",
      "          c: 2/════════════════════════════════════════════════════════╩═══»\n",
      "                                                                       1   »\n",
      "«                            \n",
      "«ancilla_0 -> 0 ─────────────\n",
      "«               ┌────────┐┌─┐\n",
      "«      q_0 -> 1 ┤ Rz(-π) ├┤M├\n",
      "«               └────────┘└╥┘\n",
      "«      q_1 -> 2 ───────────╫─\n",
      "«                          ║ \n",
      "«ancilla_1 -> 3 ───────────╫─\n",
      "«                          ║ \n",
      "«ancilla_2 -> 4 ───────────╫─\n",
      "«                          ║ \n",
      "«          c: 2/═══════════╩═\n",
      "«                          0 \n",
      "OPENQASM 2.0;\n",
      "include \"qelib1.inc\";\n",
      "qreg q[5];\n",
      "creg c[2];\n",
      "rz(pi/2) q[1];\n",
      "sx q[1];\n",
      "rz(11*pi/10) q[1];\n",
      "sx q[1];\n",
      "rz(3*pi/2) q[1];\n",
      "cx q[1],q[2];\n",
      "sx q[1];\n",
      "rz(-pi) q[1];\n",
      "measure q[1] -> c[0];\n",
      "measure q[2] -> c[1];\n",
      "\n",
      "optimized circuit\n",
      "optimization level: 3\n",
      "                                                                           »\n",
      "ancilla_0 -> 0 ────────────────────────────────────────────────────────────»\n",
      "               ┌─────────┐┌────┐┌────────────┐┌────┐┌──────────┐     ┌────┐»\n",
      "      q_0 -> 1 ┤ Rz(π/2) ├┤ √X ├┤ Rz(11π/10) ├┤ √X ├┤ Rz(3π/2) ├──■──┤ √X ├»\n",
      "               └─────────┘└────┘└────────────┘└────┘└──────────┘┌─┴─┐└┬─┬─┘»\n",
      "      q_1 -> 2 ─────────────────────────────────────────────────┤ X ├─┤M├──»\n",
      "                                                                └───┘ └╥┘  »\n",
      "ancilla_1 -> 3 ────────────────────────────────────────────────────────╫───»\n",
      "                                                                       ║   »\n",
      "ancilla_2 -> 4 ────────────────────────────────────────────────────────╫───»\n",
      "                                                                       ║   »\n",
      "          c: 2/════════════════════════════════════════════════════════╩═══»\n",
      "                                                                       1   »\n",
      "«                            \n",
      "«ancilla_0 -> 0 ─────────────\n",
      "«               ┌────────┐┌─┐\n",
      "«      q_0 -> 1 ┤ Rz(-π) ├┤M├\n",
      "«               └────────┘└╥┘\n",
      "«      q_1 -> 2 ───────────╫─\n",
      "«                          ║ \n",
      "«ancilla_1 -> 3 ───────────╫─\n",
      "«                          ║ \n",
      "«ancilla_2 -> 4 ───────────╫─\n",
      "«                          ║ \n",
      "«          c: 2/═══════════╩═\n",
      "«                          0 \n",
      "OPENQASM 2.0;\n",
      "include \"qelib1.inc\";\n",
      "qreg q[5];\n",
      "creg c[2];\n",
      "rz(pi/2) q[1];\n",
      "sx q[1];\n",
      "rz(11*pi/10) q[1];\n",
      "sx q[1];\n",
      "rz(3*pi/2) q[1];\n",
      "cx q[1],q[2];\n",
      "sx q[1];\n",
      "rz(-pi) q[1];\n",
      "measure q[1] -> c[0];\n",
      "measure q[2] -> c[1];\n",
      "\n",
      "optimized circuit\n"
     ]
    }
   ],
   "source": [
    "# compare transpiled circuits for different optimization levels on backend 1 (fake)\n",
    "\n",
    "optimization_levels = [0,1,2,3]\n",
    "for optim_level in optimization_levels:\n",
    "    print(f\"optimization level: {optim_level}\") \n",
    "    transpiled_circuit = transpile(circuit, backend=backend1, optimization_level=optim_level)\n",
    "    print(transpiled_circuit) \n",
    "    print(transpiled_circuit.qasm())\n",
    "    print(\"optimized circuit\")"
   ]
  },
  {
   "cell_type": "markdown",
   "id": "4d9746ab",
   "metadata": {
    "pycharm": {
     "name": "#%% md\n"
    }
   },
   "source": [
    "Output of the transpiled Circuit as shown in the IBM Quantum Lab"
   ]
  },
  {
   "cell_type": "code",
   "execution_count": 9,
   "id": "c45c3d60",
   "metadata": {
    "pycharm": {
     "name": "#%%\n"
    }
   },
   "outputs": [
    {
     "data": {
      "image/png": "[encoded data removed]",
      "text/plain": [
       "<Figure size 721.131x385.28 with 1 Axes>"
      ]
     },
     "execution_count": 9,
     "metadata": {},
     "output_type": "execute_result"
    }
   ],
   "source": [
    "transpiled_circuit.draw(output='mpl')"
   ]
  },
  {
   "cell_type": "markdown",
   "id": "7c867087",
   "metadata": {
    "pycharm": {
     "name": "#%% md\n"
    }
   },
   "source": [
    "When simulating the improved circuit, the result has clearly improved."
   ]
  },
  {
   "cell_type": "code",
   "execution_count": 10,
   "id": "264efda5",
   "metadata": {
    "pycharm": {
     "name": "#%%\n"
    }
   },
   "outputs": [
    {
     "data": {
      "image/png": "[encoded data removed]",
      "text/plain": [
       "<Figure size 504x360 with 1 Axes>"
      ]
     },
     "execution_count": 10,
     "metadata": {},
     "output_type": "execute_result"
    }
   ],
   "source": [
    "# Running the basic bomb tester circuit\n",
    "simulator = QasmSimulator()\n",
    "\n",
    "job = simulator.run(transpiled_circuit, shots)\n",
    "result = job.result()\n",
    "counts = result.get_counts(transpiled_circuit)\n",
    "\n",
    "\n",
    "plot_histogram(counts)"
   ]
  },
  {
   "cell_type": "markdown",
   "id": "e554e3e1",
   "metadata": {
    "pycharm": {
     "name": "#%% md\n"
    }
   },
   "source": [
    "# Measurement Error Mitigation"
   ]
  },
  {
   "cell_type": "markdown",
   "id": "c52ca528",
   "metadata": {
    "pycharm": {
     "name": "#%% md\n"
    }
   },
   "source": [
    "## Hardware optimization\n",
    "Hardware based optimizationn achieves only minor improvements compared to Software based ones, but it is easier to implement.\n",
    "\n",
    "It works by deploying the circuit on a Quantum Computer with a higher Quantum Volume(QV). QV measures several features of a Quantum Computer, among other things, the number of qubits as well as gate and measurement errors.\n",
    "\n",
    "We tested our improved programm against the base one on two systems with the following QV: 8 and 32.\n",
    "\n",
    "On the system with a QV of 8 the improvemnt is:"
   ]
  },
  {
   "cell_type": "code",
   "execution_count": 11,
   "id": "c6e0144f",
   "metadata": {
    "pycharm": {
     "name": "#%%\n"
    }
   },
   "outputs": [
    {
     "data": {
      "image/png": "[encoded data removed]",
      "text/plain": [
       "<Figure size 432x288 with 1 Axes>"
      ]
     },
     "metadata": {
      "needs_background": "light"
     },
     "output_type": "display_data"
    },
    {
     "name": "stdout",
     "output_type": "stream",
     "text": [
      "Improvement \n",
      "00 vs 10\n"
     ]
    }
   ],
   "source": [
    "import pandas as pd\n",
    "import matplotlib.pyplot as plt\n",
    "\n",
    "df1 = pd.read_csv('./Data/00.csv' )\n",
    "df2 = pd.read_csv('./Data/10.csv')\n",
    "df1[\"versuch\"]=\"r\"\n",
    "df2[\"versuch\"]=\"b\"\n",
    "\n",
    "#print(df)\n",
    "plt.ylabel(\"Frequency\")\n",
    "plt.xlabel(\"Measurement outcome\")\n",
    "plt.bar(x=df1.index-0.1, height=df1[\"Frequency\"],color=df1[\"versuch\"],width=0.2,tick_label=[\"000000\",\"000001\",\"000010\",\"000011\"],label='QV of 8')\n",
    "plt.bar(x=df2.index+0.1, height=df2[\"Frequency\"],color=df2[\"versuch\"],width=0.2,tick_label=[\"000000\",\"000001\",\"000010\",\"000011\"],label='QV of 32')\n",
    "plt.legend()\n",
    "plt.show()"
   ]
  },
  {
   "cell_type": "markdown",
   "id": "1d22d149",
   "metadata": {
    "pycharm": {
     "name": "#%% md\n"
    }
   },
   "source": [
    "On the system with a QV of 32 the improvemnt is:"
   ]
  },
  {
   "cell_type": "code",
   "execution_count": 12,
   "id": "f4d54dd2",
   "metadata": {
    "pycharm": {
     "name": "#%%\n"
    }
   },
   "outputs": [
    {
     "data": {
      "image/png": "[encoded data removed]",
      "text/plain": [
       "<Figure size 432x288 with 1 Axes>"
      ]
     },
     "metadata": {
      "needs_background": "light"
     },
     "output_type": "display_data"
    },
    {
     "name": "stdout",
     "output_type": "stream",
     "text": [
      "Improvement \n",
      "00 vs 10\n"
     ]
    }
   ],
   "source": [
    "import pandas as pd\n",
    "import matplotlib.pyplot as plt\n",
    "\n",
    "df1 = pd.read_csv('./Data/00.csv' )\n",
    "df2 = pd.read_csv('./Data/10.csv')\n",
    "df1[\"versuch\"]=\"r\"\n",
    "df2[\"versuch\"]=\"b\"\n",
    "\n",
    "#print(df)\n",
    "plt.ylabel(\"Frequency\")\n",
    "plt.xlabel(\"Measurement outcome\")\n",
    "plt.bar(x=df1.index-0.1, height=df1[\"Frequency\"],color=df1[\"versuch\"],width=0.2,tick_label=[\"000000\",\"000001\",\"000010\",\"000011\"],label='QV of 8')\n",
    "plt.bar(x=df2.index+0.1, height=df2[\"Frequency\"],color=df2[\"versuch\"],width=0.2,tick_label=[\"000000\",\"000001\",\"000010\",\"000011\"],label='QV of 32')\n",
    "plt.legend()\n",
    "plt.show()"
   ]
  },
  {
   "cell_type": "markdown",
   "id": "5efddf99",
   "metadata": {
    "pycharm": {
     "name": "#%% md\n"
    }
   },
   "source": [
    "## Conclusion\n",
    "One Type of optimization improves the total outcome only a bit, a combination of multiple technigues increases the probability a respectable amount. The increase in the desired state was up to 10%, while simultaneously decreaing the probability in the remaining states."
   ]
  }
 ],
 "metadata": {
  "kernelspec": {
   "display_name": "Python 3 (ipykernel)",
   "language": "python",
   "name": "python3"
  },
  "language_info": {
   "codemirror_mode": {
    "name": "ipython",
    "version": 3
   },
   "file_extension": ".py",
   "mimetype": "text/x-python",
   "name": "python",
   "nbconvert_exporter": "python",
   "pygments_lexer": "ipython3",
   "version": "3.8.12"
  }
 },
 "nbformat": 4,
 "nbformat_minor": 5
}