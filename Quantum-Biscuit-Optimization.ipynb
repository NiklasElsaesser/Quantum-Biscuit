{
 "cells": [
  {
   "cell_type": "markdown",
   "id": "6b9d29b4",
   "metadata": {},
   "source": [
    "# Optimization\n",
    "To improve the probabilities of our Biscuit-Tester when deploying the code on a Quantum Computer, we have mulitple options. The options can be devided into two categories, soft- and hardware based improvements.\n",
    "\n",
    "## Software optimization\n",
    "Software enabled optimization is the\n",
    "\n",
    "The here used techniques are:\n",
    "- noise reduction\n",
    "- Measurement Error Mitigation\n",
    "\n",
    "## Hardware optimization"
   ]
  },
  {
   "cell_type": "markdown",
   "id": "42911c35",
   "metadata": {
    "pycharm": {
     "name": "#%% md\n"
    }
   },
   "source": [
    "## Setup\n",
    "First we have to setup the code\n"
   ]
  },
  {
   "cell_type": "code",
   "execution_count": 1,
   "id": "ca6028dd",
   "metadata": {
    "pycharm": {
     "name": "#%%\n"
    }
   },
   "outputs": [],
   "source": [
    "from qiskit import QuantumCircuit, QuantumRegister,ClassicalRegister, execute, transpile, Aer, IBMQ # circuit creation and execution\n",
    "from qiskit.providers.aer.noise import NoiseModel # simulate backends\n",
    "from qiskit.visualization import plot_histogram # visualize results\n",
    "from qiskit.quantum_info import Statevector, state_fidelity, hellinger_fidelity # statevector and metrics\n",
    "from qiskit.providers.ibmq import least_busy # get least busy device\n",
    "import qiskit.tools.jupyter # visualize backends\n",
    "from qiskit.circuit.library.standard_gates.rx import RXGate\n",
    "# from qiskit.ignis.mitigation.measurement import complete_meas_cal,CompleteMeasFitter # measurement error mitigation\n",
    "\n",
    "import pandas as pd # handy tools for calculation\n",
    "from numpy import pi\n",
    "import pandas as pd\n",
    "import matplotlib.pyplot as plt\n",
    "\n",
    "# global vars\n",
    "n = 3 # number of qubits\n",
    "shots = 1000 # high number of shots per execution"
   ]
  },
  {
   "cell_type": "markdown",
   "id": "eea07df1",
   "metadata": {
    "pycharm": {
     "name": "#%% md\n"
    }
   },
   "source": [
    "## Own Code\n",
    "This is our Code improved code for the simple biscuit test"
   ]
  },
  {
   "cell_type": "code",
   "execution_count": 2,
   "id": "8c40a00c",
   "metadata": {
    "pycharm": {
     "name": "#%%\n"
    }
   },
   "outputs": [
    {
     "data": {
      "image/png": "[encoded data removed]",
      "text/plain": [
       "<Figure size 327.252x204.68 with 1 Axes>"
      ]
     },
     "execution_count": 2,
     "metadata": {},
     "output_type": "execute_result"
    }
   ],
   "source": [
    "qreg_q = QuantumRegister(2, 'q')\n",
    "creg_c = ClassicalRegister(2, 'c')\n",
    "circuit = QuantumCircuit(qreg_q, creg_c)\n",
    "\n",
    "circuit.rx(pi/10, qreg_q[0])\n",
    "circuit.reset(qreg_q[1])\n",
    "circuit.cx(qreg_q[0], qreg_q[1])\n",
    "circuit.rx(-pi/2, qreg_q[0])\n",
    "circuit.measure(qreg_q[1], creg_c[1])\n",
    "circuit.measure(qreg_q[0], creg_c[0])\n",
    "circuit.draw(output='mpl')"
   ]
  },
  {
   "cell_type": "markdown",
   "id": "175ad58c",
   "metadata": {
    "pycharm": {
     "name": "#%% md\n"
    }
   },
   "source": [
    "The code gets converted into qasm code to deploy it onto a Quantum Computer."
   ]
  },
  {
   "cell_type": "code",
   "execution_count": 3,
   "id": "61147b28",
   "metadata": {
    "pycharm": {
     "name": "#%%\n"
    }
   },
   "outputs": [
    {
     "name": "stdout",
     "output_type": "stream",
     "text": [
      "OPENQASM 2.0;\n",
      "include \"qelib1.inc\";\n",
      "qreg q[2];\n",
      "creg c[2];\n",
      "rx(pi/10) q[0];\n",
      "reset q[1];\n",
      "cx q[0],q[1];\n",
      "rx(-pi/2) q[0];\n",
      "measure q[1] -> c[1];\n",
      "measure q[0] -> c[0];\n",
      "\n"
     ]
    }
   ],
   "source": [
    "print(circuit.qasm())"
   ]
  },
  {
   "cell_type": "markdown",
   "id": "ba5272a6",
   "metadata": {
    "pycharm": {
     "name": "#%% md\n"
    }
   },
   "source": [
    "Here We simulate the probability output of the unimproved circuit."
   ]
  },
  {
   "cell_type": "code",
   "execution_count": 4,
   "id": "da24184d",
   "metadata": {
    "pycharm": {
     "name": "#%%\n"
    }
   },
   "outputs": [
    {
     "data": {
      "image/png": "[encoded data removed]",
      "text/plain": [
       "<Figure size 504x360 with 1 Axes>"
      ]
     },
     "execution_count": 4,
     "metadata": {},
     "output_type": "execute_result"
    }
   ],
   "source": [
    "# Running the basic bomb tester circuit\n",
    "\n",
    "from qiskit.providers.aer import QasmSimulator\n",
    "simulator = QasmSimulator()\n",
    "\n",
    "job = simulator.run(circuit, shots=1000)\n",
    "result = job.result()\n",
    "counts = result.get_counts(circuit)\n",
    "\n",
    "from qiskit.visualization import plot_histogram\n",
    "plot_histogram(counts)"
   ]
  },
  {
   "cell_type": "markdown",
   "id": "c9d06cfd",
   "metadata": {
    "pycharm": {
     "name": "#%% md\n"
    }
   },
   "source": [
    "## Setup for Noise optimization\n",
    "## might improve , shorten code"
   ]
  },
  {
   "cell_type": "code",
   "execution_count": 5,
   "id": "895fdd49",
   "metadata": {
    "pycharm": {
     "name": "#%%\n"
    }
   },
   "outputs": [],
   "source": [
    "expected_states = ['00', '01', '10', '11']  # target states\n",
    "\n",
    "def get_state_accuracy(counts): # funciton to calculate state accuracy\n",
    "    expected_counts = 0\n",
    "    for state in counts.keys():\n",
    "        if state in expected_states:\n",
    "            expected_counts = expected_counts + counts[state]\n",
    "    state_accuracy = expected_counts / shots\n",
    "    return str(state_accuracy*100)+\"%\""
   ]
  },
  {
   "cell_type": "code",
   "execution_count": 6,
   "id": "5af3fb50",
   "metadata": {
    "pycharm": {
     "name": "#%%\n"
    }
   },
   "outputs": [
    {
     "name": "stdout",
     "output_type": "stream",
     "text": [
      "state accuracy on the simulator: 100.0%\n"
     ]
    }
   ],
   "source": [
    "counts = execute(circuit, backend=Aer.get_backend('qasm_simulator'), shots=shots).result().get_counts() # execution on simulator\n",
    "state_accuracy = get_state_accuracy(counts)\n",
    "print(f\"state accuracy on the simulator: {state_accuracy}\")"
   ]
  },
  {
   "cell_type": "markdown",
   "id": "8c9692f2",
   "metadata": {
    "pycharm": {
     "name": "#%% md\n"
    }
   },
   "source": [
    "Importing fake Backend"
   ]
  },
  {
   "cell_type": "code",
   "execution_count": 7,
   "id": "4045b4df",
   "metadata": {
    "pycharm": {
     "name": "#%%\n"
    }
   },
   "outputs": [],
   "source": [
    "from qiskit.test.mock import *\n",
    "\n",
    "backends = [FakeVigo()]\n",
    "backend1 = FakeVigo()"
   ]
  },
  {
   "cell_type": "markdown",
   "id": "992861a8",
   "metadata": {
    "pycharm": {
     "name": "#%% md\n"
    }
   },
   "source": [
    "importing backend Santiago"
   ]
  },
  {
   "cell_type": "markdown",
   "id": "129bb8f1",
   "metadata": {
    "pycharm": {
     "name": "#%% md\n"
    }
   },
   "source": [
    "## Noise reduction\n",
    "Noise increases the more Gates we add to the circuit. Optimization is done with the qiskit transpiler function to decrease the noise at the final gate. \n",
    "\n",
    "With this function, the original circuit gets translated into a new circuit with the gates used by the Quantum Computer on which the program is deployed. (fake backend)"
   ]
  },
  {
   "cell_type": "code",
   "execution_count": 8,
   "id": "b9506a68",
   "metadata": {
    "pycharm": {
     "name": "#%%\n"
    }
   },
   "outputs": [
    {
     "name": "stdout",
     "output_type": "stream",
     "text": [
      "optimization level: 0\n",
      "global phase: π\n",
      "               ┌─────────┐┌────┐┌────────────┐┌────┐┌──────────┐     »\n",
      "      q_0 -> 0 ┤ Rz(π/2) ├┤ √X ├┤ Rz(11π/10) ├┤ √X ├┤ Rz(5π/2) ├──■──»\n",
      "               └─────────┘└────┘└────────────┘└────┘└──────────┘┌─┴─┐»\n",
      "      q_1 -> 1 ────|0>──────────────────────────────────────────┤ X ├»\n",
      "                                                                └───┘»\n",
      "ancilla_0 -> 2 ──────────────────────────────────────────────────────»\n",
      "                                                                     »\n",
      "ancilla_1 -> 3 ──────────────────────────────────────────────────────»\n",
      "                                                                     »\n",
      "ancilla_2 -> 4 ──────────────────────────────────────────────────────»\n",
      "                                                                     »\n",
      "          c: 2/══════════════════════════════════════════════════════»\n",
      "                                                                     »\n",
      "«               ┌─────────┐┌────┐┌─────────┐┌────┐┌──────────┐┌─┐\n",
      "«      q_0 -> 0 ┤ Rz(π/2) ├┤ √X ├┤ Rz(π/2) ├┤ √X ├┤ Rz(5π/2) ├┤M├\n",
      "«               └───┬─┬───┘└────┘└─────────┘└────┘└──────────┘└╥┘\n",
      "«      q_1 -> 1 ────┤M├────────────────────────────────────────╫─\n",
      "«                   └╥┘                                        ║ \n",
      "«ancilla_0 -> 2 ─────╫─────────────────────────────────────────╫─\n",
      "«                    ║                                         ║ \n",
      "«ancilla_1 -> 3 ─────╫─────────────────────────────────────────╫─\n",
      "«                    ║                                         ║ \n",
      "«ancilla_2 -> 4 ─────╫─────────────────────────────────────────╫─\n",
      "«                    ║                                         ║ \n",
      "«          c: 2/═════╩═════════════════════════════════════════╩═\n",
      "«                    1                                         0 \n",
      "OPENQASM 2.0;\n",
      "include \"qelib1.inc\";\n",
      "qreg q[5];\n",
      "creg c[2];\n",
      "rz(pi/2) q[0];\n",
      "sx q[0];\n",
      "rz(11*pi/10) q[0];\n",
      "sx q[0];\n",
      "rz(5*pi/2) q[0];\n",
      "reset q[1];\n",
      "cx q[0],q[1];\n",
      "rz(pi/2) q[0];\n",
      "sx q[0];\n",
      "rz(pi/2) q[0];\n",
      "sx q[0];\n",
      "rz(5*pi/2) q[0];\n",
      "measure q[0] -> c[0];\n",
      "measure q[1] -> c[1];\n",
      "\n",
      "optimized circuit\n",
      "optimization level: 1\n",
      "global phase: π/4\n",
      "               ┌─────────┐┌────┐┌────────────┐┌────┐┌──────────┐     ┌────────┐»\n",
      "      q_0 -> 0 ┤ Rz(π/2) ├┤ √X ├┤ Rz(11π/10) ├┤ √X ├┤ Rz(5π/2) ├──■──┤ Rz(-π) ├»\n",
      "               └─────────┘└────┘└────────────┘└────┘└──────────┘┌─┴─┐└──┬─┬───┘»\n",
      "      q_1 -> 1 ─────────────────────────────────────────────────┤ X ├───┤M├────»\n",
      "                                                                └───┘   └╥┘    »\n",
      "ancilla_0 -> 2 ──────────────────────────────────────────────────────────╫─────»\n",
      "                                                                         ║     »\n",
      "ancilla_1 -> 3 ──────────────────────────────────────────────────────────╫─────»\n",
      "                                                                         ║     »\n",
      "ancilla_2 -> 4 ──────────────────────────────────────────────────────────╫─────»\n",
      "                                                                         ║     »\n",
      "          c: 2/══════════════════════════════════════════════════════════╩═════»\n",
      "                                                                         1     »\n",
      "«               ┌────┐┌────────┐┌─┐\n",
      "«      q_0 -> 0 ┤ √X ├┤ Rz(-π) ├┤M├\n",
      "«               └────┘└────────┘└╥┘\n",
      "«      q_1 -> 1 ─────────────────╫─\n",
      "«                                ║ \n",
      "«ancilla_0 -> 2 ─────────────────╫─\n",
      "«                                ║ \n",
      "«ancilla_1 -> 3 ─────────────────╫─\n",
      "«                                ║ \n",
      "«ancilla_2 -> 4 ─────────────────╫─\n",
      "«                                ║ \n",
      "«          c: 2/═════════════════╩═\n",
      "«                                0 \n",
      "OPENQASM 2.0;\n",
      "include \"qelib1.inc\";\n",
      "qreg q[5];\n",
      "creg c[2];\n",
      "rz(pi/2) q[0];\n",
      "sx q[0];\n",
      "rz(11*pi/10) q[0];\n",
      "sx q[0];\n",
      "rz(5*pi/2) q[0];\n",
      "cx q[0],q[1];\n",
      "rz(-pi) q[0];\n",
      "sx q[0];\n",
      "rz(-pi) q[0];\n",
      "measure q[0] -> c[0];\n",
      "measure q[1] -> c[1];\n",
      "\n",
      "optimized circuit\n",
      "optimization level: 2\n",
      "                                                                           »\n",
      "ancilla_0 -> 0 ────────────────────────────────────────────────────────────»\n",
      "               ┌─────────┐┌────┐┌────────────┐┌────┐┌──────────┐     ┌────┐»\n",
      "      q_0 -> 1 ┤ Rz(π/2) ├┤ √X ├┤ Rz(11π/10) ├┤ √X ├┤ Rz(3π/2) ├──■──┤ √X ├»\n",
      "               └─────────┘└────┘└────────────┘└────┘└──────────┘┌─┴─┐└┬─┬─┘»\n",
      "      q_1 -> 2 ─────────────────────────────────────────────────┤ X ├─┤M├──»\n",
      "                                                                └───┘ └╥┘  »\n",
      "ancilla_1 -> 3 ────────────────────────────────────────────────────────╫───»\n",
      "                                                                       ║   »\n",
      "ancilla_2 -> 4 ────────────────────────────────────────────────────────╫───»\n",
      "                                                                       ║   »\n",
      "          c: 2/════════════════════════════════════════════════════════╩═══»\n",
      "                                                                       1   »\n",
      "«                            \n",
      "«ancilla_0 -> 0 ─────────────\n",
      "«               ┌────────┐┌─┐\n",
      "«      q_0 -> 1 ┤ Rz(-π) ├┤M├\n",
      "«               └────────┘└╥┘\n",
      "«      q_1 -> 2 ───────────╫─\n",
      "«                          ║ \n",
      "«ancilla_1 -> 3 ───────────╫─\n",
      "«                          ║ \n",
      "«ancilla_2 -> 4 ───────────╫─\n",
      "«                          ║ \n",
      "«          c: 2/═══════════╩═\n",
      "«                          0 \n",
      "OPENQASM 2.0;\n",
      "include \"qelib1.inc\";\n",
      "qreg q[5];\n",
      "creg c[2];\n",
      "rz(pi/2) q[1];\n",
      "sx q[1];\n",
      "rz(11*pi/10) q[1];\n",
      "sx q[1];\n",
      "rz(3*pi/2) q[1];\n",
      "cx q[1],q[2];\n",
      "sx q[1];\n",
      "rz(-pi) q[1];\n",
      "measure q[1] -> c[0];\n",
      "measure q[2] -> c[1];\n",
      "\n",
      "optimized circuit\n",
      "optimization level: 3\n",
      "                                                                           »\n",
      "ancilla_0 -> 0 ────────────────────────────────────────────────────────────»\n",
      "               ┌─────────┐┌────┐┌────────────┐┌────┐┌──────────┐     ┌────┐»\n",
      "      q_0 -> 1 ┤ Rz(π/2) ├┤ √X ├┤ Rz(11π/10) ├┤ √X ├┤ Rz(3π/2) ├──■──┤ √X ├»\n",
      "               └─────────┘└────┘└────────────┘└────┘└──────────┘┌─┴─┐└┬─┬─┘»\n",
      "      q_1 -> 2 ─────────────────────────────────────────────────┤ X ├─┤M├──»\n",
      "                                                                └───┘ └╥┘  »\n",
      "ancilla_1 -> 3 ────────────────────────────────────────────────────────╫───»\n",
      "                                                                       ║   »\n",
      "ancilla_2 -> 4 ────────────────────────────────────────────────────────╫───»\n",
      "                                                                       ║   »\n",
      "          c: 2/════════════════════════════════════════════════════════╩═══»\n",
      "                                                                       1   »\n",
      "«                            \n",
      "«ancilla_0 -> 0 ─────────────\n",
      "«               ┌────────┐┌─┐\n",
      "«      q_0 -> 1 ┤ Rz(-π) ├┤M├\n",
      "«               └────────┘└╥┘\n",
      "«      q_1 -> 2 ───────────╫─\n",
      "«                          ║ \n",
      "«ancilla_1 -> 3 ───────────╫─\n",
      "«                          ║ \n",
      "«ancilla_2 -> 4 ───────────╫─\n",
      "«                          ║ \n",
      "«          c: 2/═══════════╩═\n",
      "«                          0 \n",
      "OPENQASM 2.0;\n",
      "include \"qelib1.inc\";\n",
      "qreg q[5];\n",
      "creg c[2];\n",
      "rz(pi/2) q[1];\n",
      "sx q[1];\n",
      "rz(11*pi/10) q[1];\n",
      "sx q[1];\n",
      "rz(3*pi/2) q[1];\n",
      "cx q[1],q[2];\n",
      "sx q[1];\n",
      "rz(-pi) q[1];\n",
      "measure q[1] -> c[0];\n",
      "measure q[2] -> c[1];\n",
      "\n",
      "optimized circuit\n"
     ]
    }
   ],
   "source": [
    "# compare transpiled circuits for different optimization levels on backend 1 (fake)\n",
    "\n",
    "optimization_levels = [0,1,2,3]\n",
    "for optim_level in optimization_levels:\n",
    "    print(f\"optimization level: {optim_level}\") \n",
    "    transpiled_circuit = transpile(circuit, backend=backend1, optimization_level=optim_level)\n",
    "    print(transpiled_circuit) \n",
    "    print(transpiled_circuit.qasm())\n",
    "    print(\"optimized circuit\")"
   ]
  },
  {
   "cell_type": "markdown",
   "id": "4d9746ab",
   "metadata": {
    "pycharm": {
     "name": "#%% md\n"
    }
   },
   "source": [
    "Output of the transpiled Circuit as shown in the IBM Quantum Lab"
   ]
  },
  {
   "cell_type": "code",
   "execution_count": 9,
   "id": "c45c3d60",
   "metadata": {
    "pycharm": {
     "name": "#%%\n"
    }
   },
   "outputs": [
    {
     "data": {
      "image/png": "[encoded data removed]",
      "text/plain": [
       "<Figure size 721.131x385.28 with 1 Axes>"
      ]
     },
     "execution_count": 9,
     "metadata": {},
     "output_type": "execute_result"
    }
   ],
   "source": [
    "transpiled_circuit.draw(output='mpl')"
   ]
  },
  {
   "cell_type": "markdown",
   "id": "7c867087",
   "metadata": {},
   "source": [
    "When simulating the improved circuit, the result has clearly improved."
   ]
  },
  {
   "cell_type": "code",
   "execution_count": 10,
   "id": "264efda5",
   "metadata": {},
   "outputs": [
    {
     "data": {
      "image/png": "[encoded data removed]",
      "text/plain": [
       "<Figure size 504x360 with 1 Axes>"
      ]
     },
     "execution_count": 10,
     "metadata": {},
     "output_type": "execute_result"
    }
   ],
   "source": [
    "# Running the basic bomb tester circuit\n",
    "simulator = QasmSimulator()\n",
    "\n",
    "job = simulator.run(transpiled_circuit, shots)\n",
    "result = job.result()\n",
    "counts = result.get_counts(transpiled_circuit)\n",
    "\n",
    "\n",
    "plot_histogram(counts)"
   ]
  },
  {
   "cell_type": "markdown",
   "id": "e554e3e1",
   "metadata": {},
   "source": [
    "# Measurement Error Mitigation"
   ]
  },
  {
   "cell_type": "markdown",
   "id": "c52ca528",
   "metadata": {},
   "source": [
    "## Hardware optimization\n",
    "Hardware based optimizationn achieves only minor improvements compared to Software based ones, but it is easier to implement.\n",
    "\n",
    "It works by deploying the circuit on a Quantum Computer with a higher Quantum Volume(QV). QV measures several features of a Quantum Computer, among other things, the number of qubits as well as gate and measurement errors.\n",
    "\n",
    "We tested our improved programm against the base one on two systems with the following QV: 8 and 32.\n",
    "\n",
    "On the system with a QV of 8 the improvemnt is:"
   ]
  },
  {
   "cell_type": "code",
   "execution_count": 11,
   "id": "c6e0144f",
   "metadata": {},
   "outputs": [
    {
     "data": {
      "image/png": "[encoded data removed]",
      "text/plain": [
       "<Figure size 432x288 with 1 Axes>"
      ]
     },
     "metadata": {
      "needs_background": "light"
     },
     "output_type": "display_data"
    },
    {
     "name": "stdout",
     "output_type": "stream",
     "text": [
      "Improvement \n",
      "00 vs 10\n"
     ]
    }
   ],
   "source": [
    "import pandas as pd\n",
    "import matplotlib.pyplot as plt\n",
    "\n",
    "df1 = pd.read_csv('./Data/00.csv' )\n",
    "df2 = pd.read_csv('./Data/10.csv')\n",
    "df1[\"versuch\"]=\"r\"\n",
    "df2[\"versuch\"]=\"b\"\n",
    "\n",
    "#print(df)\n",
    "plt.ylabel(\"Frequency\")\n",
    "plt.xlabel(\"Measurement outcome\")\n",
    "plt.bar(x=df1.index-0.1, height=df1[\"Frequency\"],color=df1[\"versuch\"],width=0.2,tick_label=[\"000000\",\"000001\",\"000010\",\"000011\"],label='QV of 8')\n",
    "plt.bar(x=df2.index+0.1, height=df2[\"Frequency\"],color=df2[\"versuch\"],width=0.2,tick_label=[\"000000\",\"000001\",\"000010\",\"000011\"],label='QV of 32')\n",
    "plt.legend()\n",
    "plt.show()\n",
    "print(\"Improvement \")\n",
    "print(\"00 vs 10\")"
   ]
  },
  {
   "cell_type": "markdown",
   "id": "1d22d149",
   "metadata": {},
   "source": [
    "On the system with a QV of 32 the improvemnt is:"
   ]
  },
  {
   "cell_type": "code",
   "execution_count": 12,
   "id": "f4d54dd2",
   "metadata": {},
   "outputs": [
    {
     "data": {
      "image/png": "[encoded data removed]",
      "text/plain": [
       "<Figure size 432x288 with 1 Axes>"
      ]
     },
     "metadata": {
      "needs_background": "light"
     },
     "output_type": "display_data"
    },
    {
     "name": "stdout",
     "output_type": "stream",
     "text": [
      "Improvement \n",
      "00 vs 10\n"
     ]
    }
   ],
   "source": [
    "import pandas as pd\n",
    "import matplotlib.pyplot as plt\n",
    "\n",
    "df1 = pd.read_csv('./Data/00.csv' )\n",
    "df2 = pd.read_csv('./Data/10.csv')\n",
    "df1[\"versuch\"]=\"r\"\n",
    "df2[\"versuch\"]=\"b\"\n",
    "\n",
    "#print(df)\n",
    "plt.ylabel(\"Frequency\")\n",
    "plt.xlabel(\"Measurement outcome\")\n",
    "plt.bar(x=df1.index-0.1, height=df1[\"Frequency\"],color=df1[\"versuch\"],width=0.2,tick_label=[\"000000\",\"000001\",\"000010\",\"000011\"],label='QV of 8')\n",
    "plt.bar(x=df2.index+0.1, height=df2[\"Frequency\"],color=df2[\"versuch\"],width=0.2,tick_label=[\"000000\",\"000001\",\"000010\",\"000011\"],label='QV of 32')\n",
    "plt.legend()\n",
    "plt.show()\n",
    "print(\"Improvement \")\n",
    "print(\"00 vs 10\")"
   ]
  },
  {
   "cell_type": "markdown",
   "id": "5efddf99",
   "metadata": {},
   "source": [
    "## Conclusion\n",
    "One Type of optimization improves the total outcome only a bit, a combination of multiple technigues increases the probability a respectable amount. The increase in the desired state was up to 10%, while simultaneously decreaing the probability in the remaining states."
   ]
  },
  {
   "cell_type": "code",
   "execution_count": null,
   "id": "e5f03318",
   "metadata": {
    "pycharm": {
     "name": "#%%\n"
    }
   },
   "outputs": [],
   "source": []
  },
  {
   "cell_type": "code",
   "execution_count": null,
   "id": "db5e96f0",
   "metadata": {
    "pycharm": {
     "name": "#%%\n"
    }
   },
   "outputs": [],
   "source": []
  },
  {
   "cell_type": "markdown",
   "id": "8c15be15",
   "metadata": {
    "pycharm": {
     "name": "#%% md\n"
    }
   },
   "source": [
    "# -..-.-.-.-.-.-.-.-.-.-.--.-.-.-.-.-.--.---..-.----.--.-..-.-.-..-.-.-."
   ]
  },
  {
   "cell_type": "code",
   "execution_count": null,
   "id": "a9d5d606",
   "metadata": {},
   "outputs": [],
   "source": []
  },
  {
   "cell_type": "markdown",
   "id": "4c32817e",
   "metadata": {},
   "source": [
    "# -..-.-.-.-.-.-.-.-.-.-.--.-.-.-.-.-.--.---..-.----.--.-..-.-.-..-.-.-."
   ]
  },
  {
   "cell_type": "markdown",
   "id": "52bfd0a4",
   "metadata": {
    "pycharm": {
     "name": "#%% md\n"
    }
   },
   "source": [
    "# Analysis of Probability outcome \n",
    "Volaris base qv8 (00)<br>\n",
    "Volaris noise qv8 (01)<br>\n",
    "Valaris base qv32 (10)<br>\n",
    "Volaris noise qv32 (11)<br>\n",
    "\n",
    "biscuit base qv8 (A)<br>\n",
    "biscuit noise qv8 (B)<br>\n",
    "biscuit base qv32 (C)<br>\n",
    "biscuit noise qv32 (D)<br>"
   ]
  },
  {
   "cell_type": "markdown",
   "id": "db52e362",
   "metadata": {
    "pycharm": {
     "name": "#%% md\n"
    }
   },
   "source": [
    "## noise optimization Biscuit V1 \n",
    "A vs B<br>\n",
    "C vs D"
   ]
  },
  {
   "cell_type": "code",
   "execution_count": 13,
   "id": "1b37715d",
   "metadata": {
    "pycharm": {
     "name": "#%%\n"
    }
   },
   "outputs": [
    {
     "data": {
      "image/png": "[encoded data removed]",
      "text/plain": [
       "<Figure size 432x288 with 1 Axes>"
      ]
     },
     "metadata": {
      "needs_background": "light"
     },
     "output_type": "display_data"
    },
    {
     "name": "stdout",
     "output_type": "stream",
     "text": [
      "A vs B\n"
     ]
    }
   ],
   "source": [
    "import pandas as pd\n",
    "import matplotlib.pyplot as plt\n",
    "\n",
    "df1 = pd.read_csv('./Data/A.csv' )\n",
    "df2 = pd.read_csv('./Data/B.csv')\n",
    "df1[\"versuch\"]=\"r\"\n",
    "df2[\"versuch\"]=\"b\"\n",
    "\n",
    "#print(df)\n",
    "plt.ylabel(\"Frequency\")\n",
    "plt.xlabel(\"Measurement outcome\")\n",
    "plt.bar(x=df1.index-0.1, height=df1[\"Frequency\"],color=df1[\"versuch\"],width=0.2,tick_label=[\"00\",\"01\",\"10\",\"11\"],label='Base Code')\n",
    "plt.bar(x=df2.index+0.1, height=df2[\"Frequency\"],color=df2[\"versuch\"],width=0.2,tick_label=[\"00\",\"01\",\"10\",\"11\"],label='Noise Code')\n",
    "plt.legend()\n",
    "plt.show()\n",
    "print(\"A vs B\")"
   ]
  },
  {
   "cell_type": "code",
   "execution_count": 14,
   "id": "9cf09403",
   "metadata": {
    "pycharm": {
     "name": "#%%\n"
    }
   },
   "outputs": [
    {
     "data": {
      "image/png": "[encoded data removed]",
      "text/plain": [
       "<Figure size 432x288 with 1 Axes>"
      ]
     },
     "metadata": {
      "needs_background": "light"
     },
     "output_type": "display_data"
    },
    {
     "name": "stdout",
     "output_type": "stream",
     "text": [
      "C vs D\n"
     ]
    }
   ],
   "source": [
    "import pandas as pd\n",
    "import matplotlib.pyplot as plt\n",
    "\n",
    "df1 = pd.read_csv('./Data/CS.csv' )\n",
    "df2 = pd.read_csv('./Data/DS.csv')\n",
    "df1[\"versuch\"]=\"r\"\n",
    "df2[\"versuch\"]=\"b\"\n",
    "\n",
    "#print(df)\n",
    "plt.ylabel(\"Frequency\")\n",
    "plt.xlabel(\"Measurement outcome\")\n",
    "plt.bar(x=df1.index-0.1, height=df1[\"Frequency\"],color=df1[\"versuch\"],width=0.2,tick_label=[\"00\",\"01\",\"10\",\"11\"],label='QV of 8')\n",
    "plt.bar(x=df2.index+0.1, height=df2[\"Frequency\"],color=df2[\"versuch\"],width=0.2,tick_label=[\"00\",\"01\",\"10\",\"11\"],label='QV of 32')\n",
    "plt.legend()\n",
    "plt.show()\n",
    "print(\"C vs D\")"
   ]
  },
  {
   "cell_type": "markdown",
   "id": "c160edfc",
   "metadata": {
    "pycharm": {
     "name": "#%% md\n"
    }
   },
   "source": [
    "## noise optimization Volaris V2 \n",
    "00 vs 01<br>\n",
    "10 vs 11"
   ]
  },
  {
   "cell_type": "code",
   "execution_count": 15,
   "id": "af16c30a",
   "metadata": {
    "pycharm": {
     "name": "#%%\n"
    }
   },
   "outputs": [
    {
     "data": {
      "image/png": "[encoded data removed]",
      "text/plain": [
       "<Figure size 432x288 with 1 Axes>"
      ]
     },
     "metadata": {
      "needs_background": "light"
     },
     "output_type": "display_data"
    },
    {
     "name": "stdout",
     "output_type": "stream",
     "text": [
      "00 vs 01\n"
     ]
    }
   ],
   "source": [
    "import pandas as pd\n",
    "import matplotlib.pyplot as plt\n",
    "\n",
    "df1 = pd.read_csv('./Data/00.csv' )\n",
    "df2 = pd.read_csv('./Data/01.csv')\n",
    "df1[\"versuch\"]=\"r\"\n",
    "df2[\"versuch\"]=\"b\"\n",
    "\n",
    "#print(df)\n",
    "plt.ylabel(\"Frequency\")\n",
    "plt.xlabel(\"Measurement outcome\")\n",
    "plt.bar(x=df1.index-0.1, height=df1[\"Frequency\"],color=df1[\"versuch\"],width=0.2,tick_label=[\"000000\",\"000001\",\"000010\",\"000011\"],label='Base Code')\n",
    "plt.bar(x=df2.index+0.1, height=df2[\"Frequency\"],color=df2[\"versuch\"],width=0.2,tick_label=[\"000000\",\"000001\",\"000010\",\"000011\"],label='Noise Code')\n",
    "plt.legend()\n",
    "plt.show()\n",
    "print(\"00 vs 01\")\n",
    "#not functional"
   ]
  },
  {
   "cell_type": "code",
   "execution_count": 16,
   "id": "9cf93138",
   "metadata": {
    "pycharm": {
     "name": "#%%\n"
    }
   },
   "outputs": [
    {
     "data": {
      "image/png": "[encoded data removed]",
      "text/plain": [
       "<Figure size 432x288 with 1 Axes>"
      ]
     },
     "metadata": {
      "needs_background": "light"
     },
     "output_type": "display_data"
    },
    {
     "name": "stdout",
     "output_type": "stream",
     "text": [
      "10 vs 11\n"
     ]
    }
   ],
   "source": [
    "import pandas as pd\n",
    "import matplotlib.pyplot as plt\n",
    "\n",
    "df1 = pd.read_csv('./Data/10.csv' )\n",
    "df2 = pd.read_csv('./Data/11S.csv')\n",
    "df1[\"versuch\"]=\"r\"\n",
    "df2[\"versuch\"]=\"b\"\n",
    "\n",
    "#print(df)\n",
    "plt.ylabel(\"Frequency\")\n",
    "plt.xlabel(\"Measurement outcome\")\n",
    "plt.bar(x=df1.index-0.1, height=df1[\"Frequency\"],color=df1[\"versuch\"],width=0.2,tick_label=[\"000000\",\"000001\",\"000010\",\"000011\"],label='Base Code')\n",
    "plt.bar(x=df2.index+0.1, height=df2[\"Frequency\"],color=df2[\"versuch\"],width=0.2,tick_label=[\"000000\",\"000001\",\"000010\",\"000011\"],label='Noise Code')\n",
    "plt.legend()\n",
    "plt.show()\n",
    "print(\"10 vs 11\")\n",
    "#not functional"
   ]
  },
  {
   "cell_type": "markdown",
   "id": "add43b56",
   "metadata": {
    "pycharm": {
     "name": "#%% md\n"
    }
   },
   "source": [
    "## biscuit comparison qv increaes \n",
    "A vs C<br>\n",
    "B vs D"
   ]
  },
  {
   "cell_type": "markdown",
   "id": "82cf5668",
   "metadata": {
    "pycharm": {
     "name": "#%% md\n"
    }
   },
   "source": [
    "biscuit hardware qv increase comparison"
   ]
  },
  {
   "cell_type": "code",
   "execution_count": 17,
   "id": "a5b3a857",
   "metadata": {
    "pycharm": {
     "name": "#%%\n"
    }
   },
   "outputs": [
    {
     "data": {
      "image/png": "[encoded data removed]",
      "text/plain": [
       "<Figure size 432x288 with 1 Axes>"
      ]
     },
     "metadata": {
      "needs_background": "light"
     },
     "output_type": "display_data"
    },
    {
     "name": "stdout",
     "output_type": "stream",
     "text": [
      "A vs C\n"
     ]
    }
   ],
   "source": [
    "import pandas as pd\n",
    "import matplotlib.pyplot as plt\n",
    "\n",
    "df1 = pd.read_csv('./Data/A.csv' )\n",
    "df2 = pd.read_csv('./Data/CM.csv')\n",
    "df1[\"versuch\"]=\"r\"\n",
    "df2[\"versuch\"]=\"b\"\n",
    "\n",
    "#print(df)\n",
    "plt.ylabel(\"Frequency\")\n",
    "plt.xlabel(\"Measurement outcome\")\n",
    "plt.bar(x=df1.index-0.1, height=df1[\"Frequency\"],color=df1[\"versuch\"],width=0.2,tick_label=[\"00\",\"01\",\"10\",\"11\"],label='QV of 8')\n",
    "plt.bar(x=df2.index+0.1, height=df2[\"Frequency\"],color=df2[\"versuch\"],width=0.2,tick_label=[\"00\",\"01\",\"10\",\"11\"],label='QV of 32')\n",
    "plt.legend()\n",
    "plt.show()\n",
    "print(\"A vs C\")"
   ]
  },
  {
   "cell_type": "code",
   "execution_count": 18,
   "id": "b0c4037a",
   "metadata": {
    "pycharm": {
     "name": "#%%\n"
    }
   },
   "outputs": [
    {
     "data": {
      "image/png": "[encoded data removed]",
      "text/plain": [
       "<Figure size 432x288 with 1 Axes>"
      ]
     },
     "metadata": {
      "needs_background": "light"
     },
     "output_type": "display_data"
    },
    {
     "name": "stdout",
     "output_type": "stream",
     "text": [
      "B vs D\n"
     ]
    }
   ],
   "source": [
    "import pandas as pd\n",
    "import matplotlib.pyplot as plt\n",
    "\n",
    "df1 = pd.read_csv('./Data/B.csv' )\n",
    "df2 = pd.read_csv('./Data/DM.csv')\n",
    "df1[\"versuch\"]=\"r\"\n",
    "df2[\"versuch\"]=\"b\"\n",
    "\n",
    "#print(df)\n",
    "plt.ylabel(\"Frequency\")\n",
    "plt.xlabel(\"Measurement outcome\")\n",
    "plt.bar(x=df1.index-0.1, height=df1[\"Frequency\"],color=df1[\"versuch\"],width=0.2,tick_label=[\"00\",\"01\",\"10\",\"11\"],label='QV of 8')\n",
    "plt.bar(x=df2.index+0.1, height=df2[\"Frequency\"],color=df2[\"versuch\"],width=0.2,tick_label=[\"00\",\"01\",\"10\",\"11\"],label='QV of 32')\n",
    "plt.legend()\n",
    "plt.show()\n",
    "print(\"B vs D\")"
   ]
  },
  {
   "cell_type": "markdown",
   "id": "707cd531",
   "metadata": {
    "pycharm": {
     "name": "#%% md\n"
    }
   },
   "source": [
    "## Volaris comparison qv increaes \n",
    "00 vs 10<br>\n",
    "01 vs 11"
   ]
  },
  {
   "cell_type": "code",
   "execution_count": 19,
   "id": "8f851de3",
   "metadata": {
    "pycharm": {
     "name": "#%%\n"
    }
   },
   "outputs": [
    {
     "data": {
      "image/png": "[encoded data removed]",
      "text/plain": [
       "<Figure size 432x288 with 1 Axes>"
      ]
     },
     "metadata": {
      "needs_background": "light"
     },
     "output_type": "display_data"
    },
    {
     "name": "stdout",
     "output_type": "stream",
     "text": [
      "00 vs 10\n"
     ]
    }
   ],
   "source": [
    "import pandas as pd\n",
    "import matplotlib.pyplot as plt\n",
    "\n",
    "df1 = pd.read_csv('./Data/00.csv' )\n",
    "df2 = pd.read_csv('./Data/10.csv')\n",
    "df1[\"versuch\"]=\"r\"\n",
    "df2[\"versuch\"]=\"b\"\n",
    "\n",
    "#print(df)\n",
    "plt.ylabel(\"Frequency\")\n",
    "plt.xlabel(\"Measurement outcome\")\n",
    "plt.bar(x=df1.index-0.1, height=df1[\"Frequency\"],color=df1[\"versuch\"],width=0.2,tick_label=[\"000000\",\"000001\",\"000010\",\"000011\"],label='QV of 8')\n",
    "plt.bar(x=df2.index+0.1, height=df2[\"Frequency\"],color=df2[\"versuch\"],width=0.2,tick_label=[\"000000\",\"000001\",\"000010\",\"000011\"],label='QV of 32')\n",
    "plt.legend()\n",
    "plt.show()\n",
    "print(\"00 vs 10\")\n",
    "#not functional"
   ]
  },
  {
   "cell_type": "code",
   "execution_count": 20,
   "id": "9359de82",
   "metadata": {
    "pycharm": {
     "name": "#%%\n"
    }
   },
   "outputs": [
    {
     "data": {
      "image/png": "[encoded data removed]",
      "text/plain": [
       "<Figure size 432x288 with 1 Axes>"
      ]
     },
     "metadata": {
      "needs_background": "light"
     },
     "output_type": "display_data"
    },
    {
     "name": "stdout",
     "output_type": "stream",
     "text": [
      "01 vs 11\n"
     ]
    }
   ],
   "source": [
    "import pandas as pd\n",
    "import matplotlib.pyplot as plt\n",
    "\n",
    "df1 = pd.read_csv('./Data/01.csv' )\n",
    "df2 = pd.read_csv('./Data/11.csv')\n",
    "df1[\"versuch\"]=\"r\"\n",
    "df2[\"versuch\"]=\"b\"\n",
    "\n",
    "#print(df)\n",
    "plt.ylabel(\"Frequency\")\n",
    "plt.xlabel(\"Measurement outcome\")\n",
    "plt.bar(x=df1.index-0.1, height=df1[\"Frequency\"],color=df1[\"versuch\"],width=0.2,tick_label=[\"000000\",\"000001\",\"000010\",\"000011\"],label='QV of 8')\n",
    "plt.bar(x=df2.index+0.1, height=df2[\"Frequency\"],color=df2[\"versuch\"],width=0.2,tick_label=[\"000000\",\"000001\",\"000010\",\"000011\"],label='QV of 32')\n",
    "plt.legend()\n",
    "plt.show()\n",
    "print(\"01 vs 11\")\n",
    "#not functional"
   ]
  },
  {
   "cell_type": "markdown",
   "id": "f4a3f03a",
   "metadata": {
    "pycharm": {
     "name": "#%% md\n"
    }
   },
   "source": [
    "## overall increase biscuit\n",
    "A vs D"
   ]
  },
  {
   "cell_type": "code",
   "execution_count": 21,
   "id": "7e9007e4",
   "metadata": {
    "pycharm": {
     "name": "#%%\n"
    }
   },
   "outputs": [
    {
     "data": {
      "image/png": "[encoded data removed]",
      "text/plain": [
       "<Figure size 432x288 with 1 Axes>"
      ]
     },
     "metadata": {
      "needs_background": "light"
     },
     "output_type": "display_data"
    },
    {
     "name": "stdout",
     "output_type": "stream",
     "text": [
      "A vs D\n"
     ]
    }
   ],
   "source": [
    "import pandas as pd\n",
    "import matplotlib.pyplot as plt\n",
    "\n",
    "df1 = pd.read_csv('./Data/A.csv' )\n",
    "df2 = pd.read_csv('./Data/DS.csv')\n",
    "df1[\"versuch\"]=\"r\"\n",
    "df2[\"versuch\"]=\"b\"\n",
    "\n",
    "#print(df)\n",
    "plt.ylabel(\"Frequency\")\n",
    "plt.xlabel(\"Measurement outcome\")\n",
    "plt.bar(x=df1.index-0.1, height=df1[\"Frequency\"],color=df1[\"versuch\"],width=0.2,tick_label=[\"00\",\"01\",\"10\",\"11\"],label='QV of 8')\n",
    "plt.bar(x=df2.index+0.1, height=df2[\"Frequency\"],color=df2[\"versuch\"],width=0.2,tick_label=[\"00\",\"01\",\"10\",\"11\"],label='QV of 32')\n",
    "plt.legend()\n",
    "plt.show()\n",
    "print(\"A vs D\")"
   ]
  },
  {
   "cell_type": "markdown",
   "id": "8f3df4ac",
   "metadata": {
    "pycharm": {
     "name": "#%% md\n"
    }
   },
   "source": [
    "## overall increase Volaris\n",
    "00 vs 11"
   ]
  },
  {
   "cell_type": "code",
   "execution_count": null,
   "outputs": [],
   "source": [
    "import pandas as pd\n",
    "import matplotlib.pyplot as plt\n",
    "\n",
    "df1 = pd.read_csv('./Data/01.csv' )\n",
    "df2 = pd.read_csv('./Data/11S.csv')\n",
    "df1[\"versuch\"]=\"r\"\n",
    "df2[\"versuch\"]=\"b\"\n",
    "\n",
    "#print(df)\n",
    "plt.ylabel(\"Frequency\")\n",
    "plt.xlabel(\"Measurement outcome\")\n",
    "plt.bar(x=df1.index-0.1, height=df1[\"Frequency\"],color=df1[\"versuch\"],width=0.2,tick_label=[\"000000\",\"000001\",\"000010\",\"000011\"],label='QV of 8-base')\n",
    "plt.bar(x=df2.index+0.1, height=df2[\"Frequency\"],color=df2[\"versuch\"],width=0.2,tick_label=[\"000000\",\"000001\",\"000010\",\"000011\"],label='QV of 32-noise')\n",
    "plt.legend()\n",
    "plt.show()\n",
    "print(\"00 vs 11\")\n",
    "#not functional"
   ],
   "metadata": {
    "collapsed": false,
    "pycharm": {
     "name": "#%%\n"
    }
   }
  },
  {
   "cell_type": "markdown",
   "source": [
    "Volaris hardware qv increase comparison"
   ],
   "metadata": {
    "collapsed": false,
    "pycharm": {
     "name": "#%% md\n"
    }
   }
  },
  {
   "cell_type": "code",
   "execution_count": null,
   "outputs": [],
   "source": [
    "import pandas as pd\n",
    "import matplotlib.pyplot as plt\n",
    "\n",
    "df1 = pd.read_csv('./Data/00.csv' )\n",
    "df2 = pd.read_csv('./Data/10.csv')\n",
    "df1[\"versuch\"]=\"r\"\n",
    "df2[\"versuch\"]=\"b\"\n",
    "\n",
    "#print(df)\n",
    "plt.ylabel(\"Frequency\")\n",
    "plt.xlabel(\"Measurement outcome\")\n",
    "plt.bar(x=df1.index-0.1, height=df1[\"Frequency\"],color=df1[\"versuch\"],width=0.2,tick_label=[\"000000\",\"000001\",\"000010\",\"000011\"],label='QV of 8')\n",
    "plt.bar(x=df2.index+0.1, height=df2[\"Frequency\"],color=df2[\"versuch\"],width=0.2,tick_label=[\"000000\",\"000001\",\"000010\",\"000011\"],label='QV of 32')\n",
    "plt.legend()\n",
    "plt.show()"
   ],
   "metadata": {
    "collapsed": false,
    "pycharm": {
     "name": "#%%\n"
    }
   }
  },
  {
   "cell_type": "markdown",
   "source": [
    "Optimizing for backend santiago\n",
    "## test"
   ],
   "metadata": {
    "collapsed": false,
    "pycharm": {
     "name": "#%% md\n"
    }
   }
  },
  {
   "cell_type": "code",
   "execution_count": null,
   "outputs": [],
   "source": [
    "#IBMQ.save_account('17c5b4b1ba814db12e31fd196aba92d7fc969426cee135ecf7213d619bff7cd27595e05b223b085e5cd872da57c3874e82a12d1b136d3b8868695c7437bf787d',overwrite=True)\n",
    "#priver = IBMQ.load_account()\n",
    "#backend_santi = provider.backend.ibmq_santiago"
   ],
   "metadata": {
    "collapsed": false,
    "pycharm": {
     "name": "#%%\n"
    }
   }
  },
  {
   "cell_type": "code",
   "execution_count": null,
   "outputs": [],
   "source": [
    "#optimization_levels = [0,1,2,3]\n",
    "#print(\"original circuit\")\n",
    "#print(circuit)\n",
    "#for optim_level in optimization_levels:\n",
    "#    print(f\"optimization level: {optim_level}\")\n",
    "#    transpiled_circuit = transpile(circuit, backend=backend_santi, optimization_level=optim_level)\n",
    "#    print(transpiled_circuit)\n",
    "#    print(transpiled_circuit.qasm())"
   ],
   "metadata": {
    "collapsed": false,
    "pycharm": {
     "name": "#%%\n"
    }
   }
  },
  {
   "cell_type": "code",
   "execution_count": null,
   "outputs": [],
   "source": [
    "from qiskit.circuit import QuantumRegister, ClassicalRegister\n",
    "import numpy as np\n",
    "from qiskit.circuit.library import RXGate, RYGate\n",
    "\n",
    "from qiskit.providers.aer import QasmSimulator\n",
    "from qiskit.visualization import plot_histogram\n",
    "\n",
    "simulator = QasmSimulator()\n",
    "\n",
    "\n",
    "\n",
    "cycles = 8 # Choose the number of times we want to pass our photon through the mystery box. The more, the better.\n",
    "theta = np.pi/cycles # The correct reflectivity of our beamsplitter is chosen for the quantum Zeno effect to work.\n",
    "\n",
    "# Create our quantum circuit\n",
    "qr = QuantumRegister(2, 'q')\n",
    "cr = ClassicalRegister(cycles, 'c')\n",
    "zeno_tester = QuantumCircuit(qr, cr)\n",
    "\n",
    "# Create a chain of our variable beamsplitters and C-NOT bombs\n",
    "for cycle in range(cycles-1):\n",
    "    zeno_tester.append(RXGate(theta), [qr[0]])\n",
    "    zeno_tester.cx(0, 1)\n",
    "    zeno_tester.measure(qr[1],cr[cycle])\n",
    "    zeno_tester.reset(qr[1])\n",
    "\n",
    "# Add a final beamsplitter\n",
    "zeno_tester.append(RXGate(theta), [qr[0]])\n",
    "zeno_tester.append(RXGate(-np.pi), [qr[0]])\n",
    "\n",
    "#Measure our photon to predict whether there is a bomb, and measure our bomb qubit to see if it exploded.\n",
    "zeno_tester.measure(qr[0],cr[cycles-1])\n",
    "zeno_tester.draw(output='mpl')"
   ],
   "metadata": {
    "collapsed": false,
    "pycharm": {
     "name": "#%%\n"
    }
   }
  },
  {
   "cell_type": "code",
   "execution_count": null,
   "outputs": [],
   "source": [
    "print(zeno_tester.qasm())"
   ],
   "metadata": {
    "collapsed": false,
    "pycharm": {
     "name": "#%%\n"
    }
   }
  },
  {
   "cell_type": "code",
   "execution_count": null,
   "outputs": [],
   "source": [
    "optimization_levels = [0,1,2,3]\n",
    "print(\"original circuit\")\n",
    "print(zeno_tester)\n",
    "for optim_level in optimization_levels:\n",
    "    print(f\"optimization level: {optim_level}\")\n",
    "    transpiled_circuit = transpile(zeno_tester, backend=backend1, optimization_level=optim_level)\n",
    "    print(transpiled_circuit)\n",
    "    print(transpiled_circuit.qasm())"
   ],
   "metadata": {
    "collapsed": false,
    "pycharm": {
     "name": "#%%\n"
    }
   }
  },
  {
   "cell_type": "code",
   "execution_count": null,
   "outputs": [],
   "source": [],
   "metadata": {
    "collapsed": false,
    "pycharm": {
     "name": "#%%\n"
    }
   }
  },
  {
   "cell_type": "code",
   "execution_count": null,
   "id": "22eb7ac0",
   "metadata": {},
   "outputs": [],
   "source": []
  },
  {
   "cell_type": "code",
   "execution_count": null,
   "id": "61930d3c",
   "metadata": {},
   "outputs": [],
   "source": []
  }
 ],
 "metadata": {
  "kernelspec": {
   "display_name": "Python 3 (ipykernel)",
   "language": "python",
   "name": "python3"
  },
  "language_info": {
   "codemirror_mode": {
    "name": "ipython",
    "version": 3
   },
   "file_extension": ".py",
   "mimetype": "text/x-python",
   "name": "python",
   "nbconvert_exporter": "python",
   "pygments_lexer": "ipython3",
   "version": "3.8.12"
  }
 },
 "nbformat": 4,
 "nbformat_minor": 5
}